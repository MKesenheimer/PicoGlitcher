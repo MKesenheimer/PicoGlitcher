{
 "cells": [
  {
   "cell_type": "code",
   "execution_count": 30,
   "metadata": {},
   "outputs": [],
   "source": [
    "import serial\n",
    "import struct\n",
    "\n",
    "try:\n",
    "    ser = serial.Serial(\"/dev/tty.usbmodem14201\", baudrate=115200, timeout=0.1)\n",
    "except:\n",
    "    ser = serial.Serial(\"/dev/ttyACM0\", baudrate=115200, timeout=0.1)\n",
    "\n",
    "CMD_DELAY = \"d\"\n",
    "CMD_PULSE = \"p\"\n",
    "CMD_GLITCH = \"g\"\n",
    "CMD_HELLO = \"h\"\n",
    "CMD_CHECK = \"c\"\n",
    "    \n",
    "# say hello\n",
    "bts = bytes(\"{}\\n\".format(CMD_HELLO), \"ascii\")\n",
    "ser.write(bts)\n",
    "\n",
    "def set_pulse(pulse):\n",
    "    bts = bytes(\"{} {}\\n\".format(CMD_PULSE, pulse), \"ascii\")\n",
    "    ser.write(bts)\n",
    "    \n",
    "def set_delay(delay):\n",
    "    bts = bytes(\"{} {}\\n\".format(CMD_DELAY, delay), \"ascii\")\n",
    "    ser.write(bts)\n",
    "    \n",
    "def glitch():\n",
    "    bts = bytes(\"{}\\n\".format(CMD_GLITCH), \"ascii\")\n",
    "    ser.write(bts)"
   ]
  },
  {
   "cell_type": "code",
   "execution_count": 36,
   "metadata": {},
   "outputs": [],
   "source": [
    "set_pulse(6)\n",
    "set_delay(7)"
   ]
  },
  {
   "cell_type": "code",
   "execution_count": 23,
   "metadata": {},
   "outputs": [],
   "source": [
    "import subprocess\n",
    "def test_jtag():\n",
    "    try:\n",
    "        subprocess.check_output(['openocd', '-f', 'interface/jlink.cfg', '-c', 'transport select swd', '-f', 'testnrf.cfg', '-c', 'init;dump_image nrf52_dumped2.bin 0x0 0x1000; exit'], stderr=subprocess.STDOUT)\n",
    "        return True\n",
    "    except:\n",
    "        pass\n",
    "    return False"
   ]
  },
  {
   "cell_type": "code",
   "execution_count": 24,
   "metadata": {},
   "outputs": [
    {
     "data": {
      "application/vnd.jupyter.widget-view+json": {
       "model_id": "41ae9c69c593412eaf00c710b413236c",
       "version_major": 2,
       "version_minor": 0
      },
      "text/plain": [
       "  0%|          | 0/21000 [00:00<?, ?it/s]"
      ]
     },
     "metadata": {},
     "output_type": "display_data"
    },
    {
     "ename": "KeyboardInterrupt",
     "evalue": "",
     "output_type": "error",
     "traceback": [
      "\u001b[0;31m---------------------------------------------------------------------------\u001b[0m",
      "\u001b[0;31mKeyboardInterrupt\u001b[0m                         Traceback (most recent call last)",
      "Cell \u001b[0;32mIn [24], line 13\u001b[0m\n\u001b[1;32m     10\u001b[0m set_pulse(pulse)\n\u001b[1;32m     12\u001b[0m glitch()\n\u001b[0;32m---> 13\u001b[0m \u001b[43mtime\u001b[49m\u001b[38;5;241;43m.\u001b[39;49m\u001b[43msleep\u001b[49m\u001b[43m(\u001b[49m\u001b[38;5;241;43m0.5\u001b[39;49m\u001b[43m)\u001b[49m\n\u001b[1;32m     14\u001b[0m \u001b[38;5;28;01mif\u001b[39;00m test_jtag():\n\u001b[1;32m     15\u001b[0m     \u001b[38;5;28mprint\u001b[39m(\u001b[38;5;124m\"\u001b[39m\u001b[38;5;124mSUCCESS\u001b[39m\u001b[38;5;124m\"\u001b[39m)\n",
      "\u001b[0;31mKeyboardInterrupt\u001b[0m: "
     ]
    }
   ],
   "source": [
    "import time\n",
    "import sys\n",
    "from tqdm.notebook import trange, tqdm\n",
    "\n",
    "while True:\n",
    "\n",
    "    for delay in trange(63000, 84000):\n",
    "        set_delay(delay)\n",
    "        for pulse in range(7, 9):\n",
    "            set_pulse(pulse)\n",
    "\n",
    "            glitch()\n",
    "            time.sleep(0.5)\n",
    "            if test_jtag():\n",
    "                print(\"SUCCESS\")\n",
    "                sys.exit(0)"
   ]
  },
  {
   "cell_type": "code",
   "execution_count": null,
   "metadata": {},
   "outputs": [],
   "source": []
  }
 ],
 "metadata": {
  "kernelspec": {
   "display_name": "Python 3 (ipykernel)",
   "language": "python",
   "name": "python3"
  },
  "language_info": {
   "codemirror_mode": {
    "name": "ipython",
    "version": 3
   },
   "file_extension": ".py",
   "mimetype": "text/x-python",
   "name": "python",
   "nbconvert_exporter": "python",
   "pygments_lexer": "ipython3",
   "version": "3.9.13"
  }
 },
 "nbformat": 4,
 "nbformat_minor": 4
}
